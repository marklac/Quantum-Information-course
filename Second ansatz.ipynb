{
 "cells": [
  {
   "cell_type": "code",
   "execution_count": 1,
   "id": "45cbc4b0",
   "metadata": {},
   "outputs": [],
   "source": [
    "from qiskit import *\n",
    "import matplotlib.pyplot as plt\n",
    "import sympy as sp\n",
    "import numpy as np"
   ]
  },
  {
   "cell_type": "code",
   "execution_count": 2,
   "id": "45ad006c",
   "metadata": {},
   "outputs": [],
   "source": [
    "def paulidecompos(Matriz):\n",
    "    x,y=Matriz.shape\n",
    "    sigmax=sp.Matrix([[0,1],[1,0]])\n",
    "    sigmay=sp.Matrix([[0,-sp.I],[sp.I,0]])\n",
    "    sigmaz=sp.Matrix([[1,0],[0,-1]])\n",
    "    Identity=sp.Matrix([[1,0],[0,1]])\n",
    "    if x==y:\n",
    "        II=sp.kronecker_product(Identity,Identity)\n",
    "        IZ=sp.kronecker_product(Identity,sigmaz)\n",
    "        ZZ=sp.kronecker_product(sigmaz,sigmaz)\n",
    "        XX=sp.kronecker_product(sigmax,sigmax)\n",
    "        YY=sp.kronecker_product(sigmay,sigmay)\n",
    "        ZI=sp.kronecker_product(sigmaz,Identity)\n",
    "        XY=sp.kronecker_product(sigmax,sigmay)\n",
    "        IX=sp.kronecker_product(Identity,sigmax)  \n",
    "        IY=sp.kronecker_product(Identity,sigmay)\n",
    "        XI=sp.kronecker_product(sigmax,Identity)\n",
    "        XZ=sp.kronecker_product(sigmax,sigmaz)\n",
    "        YZ=sp.kronecker_product(sigmay,sigmaz)\n",
    "        YI=sp.kronecker_product(sigmay,Identity)\n",
    "        YX=sp.kronecker_product(sigmay,sigmax)\n",
    "        ZX=sp.kronecker_product(sigmaz,sigmax)\n",
    "        ZY=sp.kronecker_product(sigmaz,sigmay)\n",
    "        pauli=[II,ZZ,XX,YY,IZ,ZI,XY,IX,IY,XI,XZ,YZ,YI,YX,ZX,ZY]\n",
    "        tags=['II','ZZ','XX','YY','IZ','ZI','XY','IX','IY','XI','XZ','YZ','YI','YX','ZX','ZY']\n",
    "        elements=sp.symbols('a0:16')\n",
    "        general_m=sp.zeros(x)\n",
    "    else:\n",
    "        print('The input is not a square matrix')\n",
    "    for i in range(0,len(tags)):\n",
    "        general_m+=pauli[i]*elements[i]\n",
    "    decomposition=sp.solve(general_m-Matriz)\n",
    "    coeff={}\n",
    "    for i in range(len(tags)):\n",
    "        coeff[tags[i]]=decomposition[elements[i]]\n",
    "    return coeff"
   ]
  },
  {
   "cell_type": "code",
   "execution_count": 3,
   "id": "64aa41cb",
   "metadata": {},
   "outputs": [],
   "source": [
    "sigmax=sp.Matrix([[0,1],[1,0]])\n",
    "sigmay=sp.Matrix([[0,-sp.I],[sp.I,0]])\n",
    "sigmaz=sp.Matrix([[1,0],[0,-1]])\n",
    "Identity=sp.Matrix([[1,0],[0,1]])"
   ]
  },
  {
   "cell_type": "code",
   "execution_count": 4,
   "id": "50bf346c",
   "metadata": {},
   "outputs": [],
   "source": [
    "II=sp.kronecker_product(Identity,Identity)\n",
    "IZ=sp.kronecker_product(Identity,sigmaz)\n",
    "ZZ=sp.kronecker_product(sigmaz,sigmaz)\n",
    "XX=sp.kronecker_product(sigmax,sigmax)\n",
    "YY=sp.kronecker_product(sigmay,sigmay)\n",
    "ZI=sp.kronecker_product(sigmaz,Identity)\n",
    "XY=sp.kronecker_product(sigmax,sigmay)\n",
    "IX=sp.kronecker_product(Identity,sigmax)  \n",
    "IY=sp.kronecker_product(Identity,sigmay)\n",
    "XI=sp.kronecker_product(sigmax,Identity)\n",
    "XZ=sp.kronecker_product(sigmax,sigmaz)\n",
    "YZ=sp.kronecker_product(sigmay,sigmaz)\n",
    "YI=sp.kronecker_product(sigmay,Identity)\n",
    "YX=sp.kronecker_product(sigmay,sigmax)\n",
    "ZX=sp.kronecker_product(sigmaz,sigmax)\n",
    "ZY=sp.kronecker_product(sigmaz,sigmay)"
   ]
  },
  {
   "cell_type": "code",
   "execution_count": 5,
   "id": "cfd73ac2",
   "metadata": {},
   "outputs": [
    {
     "data": {
      "text/latex": [
       "$\\displaystyle \\left[\\begin{matrix}1 & 0 & 0 & 0\\\\0 & 1 & 0 & 0\\\\0 & 0 & 1 & 0\\\\0 & 0 & 0 & 1\\end{matrix}\\right]$"
      ],
      "text/plain": [
       "Matrix([\n",
       "[1, 0, 0, 0],\n",
       "[0, 1, 0, 0],\n",
       "[0, 0, 1, 0],\n",
       "[0, 0, 0, 1]])"
      ]
     },
     "execution_count": 5,
     "metadata": {},
     "output_type": "execute_result"
    }
   ],
   "source": [
    "II"
   ]
  },
  {
   "cell_type": "code",
   "execution_count": 6,
   "id": "a5728e39",
   "metadata": {},
   "outputs": [
    {
     "data": {
      "text/latex": [
       "$\\displaystyle \\left[\\begin{matrix}1 & 0 & 0 & 0\\\\0 & -1 & 0 & 0\\\\0 & 0 & 1 & 0\\\\0 & 0 & 0 & -1\\end{matrix}\\right]$"
      ],
      "text/plain": [
       "Matrix([\n",
       "[1,  0, 0,  0],\n",
       "[0, -1, 0,  0],\n",
       "[0,  0, 1,  0],\n",
       "[0,  0, 0, -1]])"
      ]
     },
     "execution_count": 6,
     "metadata": {},
     "output_type": "execute_result"
    }
   ],
   "source": [
    "IZ"
   ]
  },
  {
   "cell_type": "code",
   "execution_count": 7,
   "id": "ee31a7b8",
   "metadata": {},
   "outputs": [
    {
     "data": {
      "text/latex": [
       "$\\displaystyle \\left[\\begin{matrix}1 & 0 & 0 & 0\\\\0 & -1 & 0 & 0\\\\0 & 0 & -1 & 0\\\\0 & 0 & 0 & 1\\end{matrix}\\right]$"
      ],
      "text/plain": [
       "Matrix([\n",
       "[1,  0,  0, 0],\n",
       "[0, -1,  0, 0],\n",
       "[0,  0, -1, 0],\n",
       "[0,  0,  0, 1]])"
      ]
     },
     "execution_count": 7,
     "metadata": {},
     "output_type": "execute_result"
    }
   ],
   "source": [
    "ZZ"
   ]
  },
  {
   "cell_type": "code",
   "execution_count": 8,
   "id": "2df5e71d",
   "metadata": {},
   "outputs": [
    {
     "data": {
      "text/latex": [
       "$\\displaystyle \\left[\\begin{matrix}0 & 0 & 0 & 1\\\\0 & 0 & 1 & 0\\\\0 & 1 & 0 & 0\\\\1 & 0 & 0 & 0\\end{matrix}\\right]$"
      ],
      "text/plain": [
       "Matrix([\n",
       "[0, 0, 0, 1],\n",
       "[0, 0, 1, 0],\n",
       "[0, 1, 0, 0],\n",
       "[1, 0, 0, 0]])"
      ]
     },
     "execution_count": 8,
     "metadata": {},
     "output_type": "execute_result"
    }
   ],
   "source": [
    "XX"
   ]
  },
  {
   "cell_type": "code",
   "execution_count": 9,
   "id": "c2b9349b",
   "metadata": {},
   "outputs": [
    {
     "data": {
      "text/latex": [
       "$\\displaystyle \\left[\\begin{matrix}0 & 0 & 0 & -1\\\\0 & 0 & 1 & 0\\\\0 & 1 & 0 & 0\\\\-1 & 0 & 0 & 0\\end{matrix}\\right]$"
      ],
      "text/plain": [
       "Matrix([\n",
       "[ 0, 0, 0, -1],\n",
       "[ 0, 0, 1,  0],\n",
       "[ 0, 1, 0,  0],\n",
       "[-1, 0, 0,  0]])"
      ]
     },
     "execution_count": 9,
     "metadata": {},
     "output_type": "execute_result"
    }
   ],
   "source": [
    "YY"
   ]
  },
  {
   "cell_type": "code",
   "execution_count": 10,
   "id": "6e5588f7",
   "metadata": {},
   "outputs": [
    {
     "data": {
      "text/latex": [
       "$\\displaystyle \\left[\\begin{matrix}1 & 0 & 0 & 0\\\\0 & 1 & 0 & 0\\\\0 & 0 & -1 & 0\\\\0 & 0 & 0 & -1\\end{matrix}\\right]$"
      ],
      "text/plain": [
       "Matrix([\n",
       "[1, 0,  0,  0],\n",
       "[0, 1,  0,  0],\n",
       "[0, 0, -1,  0],\n",
       "[0, 0,  0, -1]])"
      ]
     },
     "execution_count": 10,
     "metadata": {},
     "output_type": "execute_result"
    }
   ],
   "source": [
    "ZI"
   ]
  },
  {
   "cell_type": "code",
   "execution_count": 11,
   "id": "0a995db9",
   "metadata": {},
   "outputs": [
    {
     "data": {
      "text/latex": [
       "$\\displaystyle \\left[\\begin{matrix}0 & 0 & 0 & - i\\\\0 & 0 & i & 0\\\\0 & - i & 0 & 0\\\\i & 0 & 0 & 0\\end{matrix}\\right]$"
      ],
      "text/plain": [
       "Matrix([\n",
       "[0,  0, 0, -I],\n",
       "[0,  0, I,  0],\n",
       "[0, -I, 0,  0],\n",
       "[I,  0, 0,  0]])"
      ]
     },
     "execution_count": 11,
     "metadata": {},
     "output_type": "execute_result"
    }
   ],
   "source": [
    "XY"
   ]
  },
  {
   "cell_type": "code",
   "execution_count": 12,
   "id": "4ef34328",
   "metadata": {},
   "outputs": [
    {
     "data": {
      "text/latex": [
       "$\\displaystyle \\left[\\begin{matrix}0 & 1 & 0 & 0\\\\1 & 0 & 0 & 0\\\\0 & 0 & 0 & 1\\\\0 & 0 & 1 & 0\\end{matrix}\\right]$"
      ],
      "text/plain": [
       "Matrix([\n",
       "[0, 1, 0, 0],\n",
       "[1, 0, 0, 0],\n",
       "[0, 0, 0, 1],\n",
       "[0, 0, 1, 0]])"
      ]
     },
     "execution_count": 12,
     "metadata": {},
     "output_type": "execute_result"
    }
   ],
   "source": [
    "IX"
   ]
  },
  {
   "cell_type": "code",
   "execution_count": 13,
   "id": "c1f61f31",
   "metadata": {},
   "outputs": [
    {
     "data": {
      "text/latex": [
       "$\\displaystyle \\left[\\begin{matrix}0 & - i & 0 & 0\\\\i & 0 & 0 & 0\\\\0 & 0 & 0 & - i\\\\0 & 0 & i & 0\\end{matrix}\\right]$"
      ],
      "text/plain": [
       "Matrix([\n",
       "[0, -I, 0,  0],\n",
       "[I,  0, 0,  0],\n",
       "[0,  0, 0, -I],\n",
       "[0,  0, I,  0]])"
      ]
     },
     "execution_count": 13,
     "metadata": {},
     "output_type": "execute_result"
    }
   ],
   "source": [
    "IY"
   ]
  },
  {
   "cell_type": "code",
   "execution_count": 14,
   "id": "11da1503",
   "metadata": {},
   "outputs": [
    {
     "data": {
      "text/latex": [
       "$\\displaystyle \\left[\\begin{matrix}0 & 0 & 1 & 0\\\\0 & 0 & 0 & 1\\\\1 & 0 & 0 & 0\\\\0 & 1 & 0 & 0\\end{matrix}\\right]$"
      ],
      "text/plain": [
       "Matrix([\n",
       "[0, 0, 1, 0],\n",
       "[0, 0, 0, 1],\n",
       "[1, 0, 0, 0],\n",
       "[0, 1, 0, 0]])"
      ]
     },
     "execution_count": 14,
     "metadata": {},
     "output_type": "execute_result"
    }
   ],
   "source": [
    "XI"
   ]
  },
  {
   "cell_type": "code",
   "execution_count": 15,
   "id": "a084719e",
   "metadata": {},
   "outputs": [
    {
     "data": {
      "text/latex": [
       "$\\displaystyle \\left[\\begin{matrix}0 & 0 & 1 & 0\\\\0 & 0 & 0 & -1\\\\1 & 0 & 0 & 0\\\\0 & -1 & 0 & 0\\end{matrix}\\right]$"
      ],
      "text/plain": [
       "Matrix([\n",
       "[0,  0, 1,  0],\n",
       "[0,  0, 0, -1],\n",
       "[1,  0, 0,  0],\n",
       "[0, -1, 0,  0]])"
      ]
     },
     "execution_count": 15,
     "metadata": {},
     "output_type": "execute_result"
    }
   ],
   "source": [
    "XZ"
   ]
  },
  {
   "cell_type": "code",
   "execution_count": 16,
   "id": "708cb226",
   "metadata": {},
   "outputs": [
    {
     "data": {
      "text/latex": [
       "$\\displaystyle \\left[\\begin{matrix}0 & 0 & - i & 0\\\\0 & 0 & 0 & i\\\\i & 0 & 0 & 0\\\\0 & - i & 0 & 0\\end{matrix}\\right]$"
      ],
      "text/plain": [
       "Matrix([\n",
       "[0,  0, -I, 0],\n",
       "[0,  0,  0, I],\n",
       "[I,  0,  0, 0],\n",
       "[0, -I,  0, 0]])"
      ]
     },
     "execution_count": 16,
     "metadata": {},
     "output_type": "execute_result"
    }
   ],
   "source": [
    "YZ"
   ]
  },
  {
   "cell_type": "code",
   "execution_count": 17,
   "id": "6bd88b60",
   "metadata": {},
   "outputs": [
    {
     "data": {
      "text/latex": [
       "$\\displaystyle \\left[\\begin{matrix}0 & 0 & - i & 0\\\\0 & 0 & 0 & - i\\\\i & 0 & 0 & 0\\\\0 & i & 0 & 0\\end{matrix}\\right]$"
      ],
      "text/plain": [
       "Matrix([\n",
       "[0, 0, -I,  0],\n",
       "[0, 0,  0, -I],\n",
       "[I, 0,  0,  0],\n",
       "[0, I,  0,  0]])"
      ]
     },
     "execution_count": 17,
     "metadata": {},
     "output_type": "execute_result"
    }
   ],
   "source": [
    "YI"
   ]
  },
  {
   "cell_type": "code",
   "execution_count": 18,
   "id": "6d2c8f4e",
   "metadata": {},
   "outputs": [
    {
     "data": {
      "text/latex": [
       "$\\displaystyle \\left[\\begin{matrix}0 & 0 & 0 & - i\\\\0 & 0 & - i & 0\\\\0 & i & 0 & 0\\\\i & 0 & 0 & 0\\end{matrix}\\right]$"
      ],
      "text/plain": [
       "Matrix([\n",
       "[0, 0,  0, -I],\n",
       "[0, 0, -I,  0],\n",
       "[0, I,  0,  0],\n",
       "[I, 0,  0,  0]])"
      ]
     },
     "execution_count": 18,
     "metadata": {},
     "output_type": "execute_result"
    }
   ],
   "source": [
    "YX"
   ]
  },
  {
   "cell_type": "code",
   "execution_count": 19,
   "id": "043c8a02",
   "metadata": {},
   "outputs": [
    {
     "data": {
      "text/latex": [
       "$\\displaystyle \\left[\\begin{matrix}0 & 1 & 0 & 0\\\\1 & 0 & 0 & 0\\\\0 & 0 & 0 & -1\\\\0 & 0 & -1 & 0\\end{matrix}\\right]$"
      ],
      "text/plain": [
       "Matrix([\n",
       "[0, 1,  0,  0],\n",
       "[1, 0,  0,  0],\n",
       "[0, 0,  0, -1],\n",
       "[0, 0, -1,  0]])"
      ]
     },
     "execution_count": 19,
     "metadata": {},
     "output_type": "execute_result"
    }
   ],
   "source": [
    "ZX"
   ]
  },
  {
   "cell_type": "code",
   "execution_count": 20,
   "id": "d5ff815b",
   "metadata": {},
   "outputs": [
    {
     "data": {
      "text/latex": [
       "$\\displaystyle \\left[\\begin{matrix}0 & - i & 0 & 0\\\\i & 0 & 0 & 0\\\\0 & 0 & 0 & i\\\\0 & 0 & - i & 0\\end{matrix}\\right]$"
      ],
      "text/plain": [
       "Matrix([\n",
       "[0, -I,  0, 0],\n",
       "[I,  0,  0, 0],\n",
       "[0,  0,  0, I],\n",
       "[0,  0, -I, 0]])"
      ]
     },
     "execution_count": 20,
     "metadata": {},
     "output_type": "execute_result"
    }
   ],
   "source": [
    "ZY"
   ]
  },
  {
   "cell_type": "code",
   "execution_count": 21,
   "id": "74540800",
   "metadata": {},
   "outputs": [
    {
     "data": {
      "text/latex": [
       "$\\displaystyle \\left[\\begin{matrix}1.67 & 0.84 - 1.64 i & 1.51 - 1.06 i & -0.49 - 1.7 i\\\\0.84 + 1.64 i & 0.35 & 0.63 + 0.06 i & 0.12 + 0.7 i\\\\1.51 + 1.06 i & 0.63 - 0.06 i & -0.57 & -0.07 - 0.3 i\\\\-0.49 + 1.7 i & 0.12 - 0.7 i & -0.07 + 0.3 i & 0.63\\end{matrix}\\right]$"
      ],
      "text/plain": [
       "Matrix([\n",
       "[         1.67, 0.84 - 1.64*I, 1.51 - 1.06*I, -0.49 - 1.7*I],\n",
       "[0.84 + 1.64*I,          0.35, 0.63 + 0.06*I,  0.12 + 0.7*I],\n",
       "[1.51 + 1.06*I, 0.63 - 0.06*I,         -0.57, -0.07 - 0.3*I],\n",
       "[-0.49 + 1.7*I,  0.12 - 0.7*I, -0.07 + 0.3*I,          0.63]])"
      ]
     },
     "execution_count": 21,
     "metadata": {},
     "output_type": "execute_result"
    }
   ],
   "source": [
    "Matriz=sp.Matrix([[1.67,0.84-1.64j,1.51-1.06j,-0.49-1.7j],[0.84+1.64j,0.35,0.63+0.06j,0.12+0.7j],[1.51+1.06j,0.63-0.06j,-0.57,-0.07-0.3j],[-0.49+1.7j,0.12-0.7j,-0.07+0.3j,0.63]])\n",
    "Matriz"
   ]
  },
  {
   "cell_type": "code",
   "execution_count": 22,
   "id": "9abda8b5",
   "metadata": {},
   "outputs": [
    {
     "data": {
      "text/plain": [
       "{4.27958272844981 - 6.03408521397119e-64*I: 1,\n",
       " 1.09150611684467 + 2.09847514345477e-64*I: 1,\n",
       " -2.17890788850984 + 1.86371826017931e-64*I: 1,\n",
       " -1.11218095678464 - 1.0916394291592e-65*I: 1}"
      ]
     },
     "execution_count": 22,
     "metadata": {},
     "output_type": "execute_result"
    }
   ],
   "source": [
    "Matriz.eigenvals()"
   ]
  },
  {
   "cell_type": "code",
   "execution_count": 23,
   "id": "cb474b88",
   "metadata": {},
   "outputs": [
    {
     "data": {
      "text/plain": [
       "{'II': 0.520000000000000,\n",
       " 'ZZ': 0.630000000000000,\n",
       " 'XX': 0.0700000000000000,\n",
       " 'YY': 0.560000000000000,\n",
       " 'IZ': 0.0300000000000000,\n",
       " 'ZI': 0.490000000000000,\n",
       " 'XY': 0.880000000000000,\n",
       " 'IX': 0.385000000000000,\n",
       " 'IY': 0.970000000000000,\n",
       " 'XI': 0.815000000000000,\n",
       " 'XZ': 0.695000000000000,\n",
       " 'YZ': 0.880000000000000,\n",
       " 'YI': 0.180000000000000,\n",
       " 'YX': 0.820000000000000,\n",
       " 'ZX': 0.455000000000000,\n",
       " 'ZY': 0.670000000000000}"
      ]
     },
     "execution_count": 23,
     "metadata": {},
     "output_type": "execute_result"
    }
   ],
   "source": [
    "coeff=paulidecompos(Matriz)\n",
    "coeff"
   ]
  },
  {
   "cell_type": "code",
   "execution_count": 24,
   "id": "04f6a3d2",
   "metadata": {},
   "outputs": [
    {
     "data": {
      "text/latex": [
       "$\\displaystyle \\left[\\begin{matrix}1.67 & 0.84 - 1.64 i & 1.51 - 1.06 i & -0.49 - 1.7 i\\\\0.84 + 1.64 i & 0.35 & 0.63 + 0.0600000000000001 i & 0.12 + 0.7 i\\\\1.51 + 1.06 i & 0.63 - 0.0600000000000001 i & -0.57 & -0.07 - 0.3 i\\\\-0.49 + 1.7 i & 0.12 - 0.7 i & -0.07 + 0.3 i & 0.63\\end{matrix}\\right]$"
      ],
      "text/plain": [
       "Matrix([\n",
       "[         1.67,               0.84 - 1.64*I,               1.51 - 1.06*I, -0.49 - 1.7*I],\n",
       "[0.84 + 1.64*I,                        0.35, 0.63 + 0.0600000000000001*I,  0.12 + 0.7*I],\n",
       "[1.51 + 1.06*I, 0.63 - 0.0600000000000001*I,                       -0.57, -0.07 - 0.3*I],\n",
       "[-0.49 + 1.7*I,                0.12 - 0.7*I,               -0.07 + 0.3*I,          0.63]])"
      ]
     },
     "execution_count": 24,
     "metadata": {},
     "output_type": "execute_result"
    }
   ],
   "source": [
    "M=II*coeff[\"II\"]+ZZ*coeff[\"ZZ\"]+XX*coeff[\"XX\"]+YY*coeff[\"YY\"]+IZ*coeff[\"IZ\"]+ZI*coeff[\"ZI\"]+XY*coeff[\"XY\"]+IX*coeff[\"IX\"]+IY*coeff[\"IY\"]+XI*coeff[\"XI\"]+XZ*coeff[\"XZ\"]+YZ*coeff[\"YZ\"]+YI*coeff[\"YI\"]+YX*coeff[\"YX\"]+ZX*coeff[\"ZX\"]+ZY*coeff[\"ZY\"]\n",
    "M"
   ]
  },
  {
   "cell_type": "code",
   "execution_count": 25,
   "id": "682024da",
   "metadata": {},
   "outputs": [
    {
     "data": {
      "text/plain": [
       "False"
      ]
     },
     "execution_count": 25,
     "metadata": {},
     "output_type": "execute_result"
    }
   ],
   "source": [
    "M==Matriz"
   ]
  },
  {
   "cell_type": "code",
   "execution_count": 26,
   "id": "96dc56c1",
   "metadata": {},
   "outputs": [
    {
     "data": {
      "text/plain": [
       "{-1: 1, 1: 1}"
      ]
     },
     "execution_count": 26,
     "metadata": {},
     "output_type": "execute_result"
    }
   ],
   "source": [
    "sigmax=sp.Matrix([[0,1],[1,0]])\n",
    "sigmay=sp.Matrix([[0,-sp.I],[sp.I,0]])\n",
    "sigmaz=sp.Matrix([[1,0],[0,-1]])\n",
    "sigmax.eigenvals()"
   ]
  },
  {
   "cell_type": "code",
   "execution_count": 27,
   "id": "26bfee5d",
   "metadata": {},
   "outputs": [
    {
     "data": {
      "image/png": "[encoded data removed]",
      "text/plain": [
       "<Figure size 538.128x284.278 with 1 Axes>"
      ]
     },
     "execution_count": 27,
     "metadata": {},
     "output_type": "execute_result"
    }
   ],
   "source": [
    "circuit=QuantumCircuit(2,2)\n",
    "q = circuit.qregs[0]\n",
    "circuit.ry(np.pi/2,q[1])\n",
    "circuit.rx(-np.pi/2,q[0])\n",
    "circuit.cx(q[1], q[0])\n",
    "circuit.rz(0, q[0])\n",
    "circuit.cx(q[1], q[0])\n",
    "circuit.ry(-np.pi/2,q[1])\n",
    "circuit.rx(np.pi/2,q[0])\n",
    "circuit.draw('mpl')"
   ]
  },
  {
   "cell_type": "code",
   "execution_count": 28,
   "id": "5eb74dce",
   "metadata": {},
   "outputs": [],
   "source": [
    "def ansatz(circuit, theta,theta2):\n",
    "    q = circuit.qregs[0]\n",
    "    circuit.ry(np.pi/2,q[1])\n",
    "    circuit.rx(-np.pi/2,q[0])\n",
    "    circuit.cx(q[1], q[0])\n",
    "    circuit.rz(theta, q[0])\n",
    "    circuit.cx(q[1], q[0])\n",
    "    circuit.ry(-np.pi/2,q[1])\n",
    "    circuit.rx(np.pi/2,q[0])\n",
    "    return circuit"
   ]
  },
  {
   "cell_type": "code",
   "execution_count": 29,
   "id": "1a0fb6e5",
   "metadata": {},
   "outputs": [],
   "source": [
    "def two_qubit_vqe(theta, theta2, basis):\n",
    "    \"\"\"\n",
    "    Extended function to handle all Pauli basis combinations.\n",
    "    \"\"\"\n",
    "    q = QuantumRegister(2)\n",
    "    c = ClassicalRegister(2)\n",
    "    circuit = QuantumCircuit(q, c)\n",
    "\n",
    "    # Implement the ansatz in the circuit\n",
    "    circuit = ansatz(circuit, theta, theta2)\n",
    "    \n",
    "    # Measurement\n",
    "    if basis == 'ZZ':\n",
    "        circuit.measure(q, c)\n",
    "    elif basis == 'XX':\n",
    "        circuit.h(q[0])\n",
    "        circuit.h(q[1])\n",
    "        circuit.measure(q[0], c[0])\n",
    "        circuit.measure(q[1], c[1])\n",
    "    elif basis == 'YY':\n",
    "        circuit.sdg(q[0])\n",
    "        circuit.sdg(q[1])\n",
    "        circuit.h(q[0])\n",
    "        circuit.h(q[1])\n",
    "        circuit.measure(q[0], c[0])\n",
    "        circuit.measure(q[1], c[1])\n",
    "    elif basis == 'IZ':\n",
    "        circuit.measure(q, c)\n",
    "    elif basis == 'ZI':\n",
    "        circuit.measure(q, c)\n",
    "    elif basis == 'XI':\n",
    "        circuit.h(q[0])\n",
    "        circuit.measure(q[0], c[0])\n",
    "        circuit.measure(q[1], c[1])\n",
    "    elif basis == 'IX':\n",
    "        circuit.h(q[1])\n",
    "        circuit.measure(q[0], c[0])\n",
    "        circuit.measure(q[1], c[1])\n",
    "    elif basis == 'YI':\n",
    "        circuit.sdg(q[0])\n",
    "        circuit.h(q[0])\n",
    "        circuit.measure(q[0], c[0])\n",
    "        circuit.measure(q[1], c[1])\n",
    "    elif basis == 'IY':\n",
    "        circuit.sdg(q[1])\n",
    "        circuit.h(q[1])\n",
    "        circuit.measure(q[0], c[0])\n",
    "        circuit.measure(q[1], c[1])\n",
    "    elif basis == 'XY':\n",
    "        circuit.h(q[0])\n",
    "        circuit.sdg(q[1])\n",
    "        circuit.h(q[1])\n",
    "        circuit.cx(1, 0)\n",
    "        circuit.measure(q[0], c[0])\n",
    "        circuit.measure(q[1], c[1])\n",
    "    elif basis == 'YX':\n",
    "        circuit.h(q[0])\n",
    "        circuit.sdg(q[0])\n",
    "        circuit.h(q[1])\n",
    "        circuit.cx(1, 0)\n",
    "        circuit.measure(q[0], c[0])\n",
    "        circuit.measure(q[1], c[1])\n",
    "    elif basis == 'XZ':\n",
    "        circuit.h(q[0])\n",
    "        circuit.cx(1, 0)\n",
    "        circuit.measure(q[0], c[0])\n",
    "        circuit.measure(q[1], c[1])\n",
    "    elif basis == 'ZX':\n",
    "        circuit.h(q[1])\n",
    "        circuit.cx(1, 0)\n",
    "        circuit.measure(q[0], c[0])\n",
    "        circuit.measure(q[1], c[1])\n",
    "    elif basis == 'YZ':\n",
    "        circuit.h(q[0])\n",
    "        circuit.sdg(q[0])\n",
    "        circuit.cx(1, 0)\n",
    "        circuit.measure(q[0], c[0])\n",
    "        circuit.measure(q[1], c[1])\n",
    "    elif basis == 'ZY':\n",
    "        circuit.h(q[1])\n",
    "        circuit.sdg(q[1])\n",
    "        circuit.cx(1, 0)\n",
    "        circuit.measure(q[0], c[0])\n",
    "        circuit.measure(q[1], c[1])\n",
    "    else:\n",
    "        raise ValueError('Not a valid Pauli basis, input should be X, Y, or Z. We excluded I because no circuit is needed.')\n",
    "    \n",
    "    return circuit"
   ]
  },
  {
   "cell_type": "code",
   "execution_count": 30,
   "id": "840644c5",
   "metadata": {},
   "outputs": [],
   "source": [
    "from qiskit_aer import AerSimulator\n",
    "\n",
    "simulator=AerSimulator()"
   ]
  },
  {
   "cell_type": "code",
   "execution_count": 31,
   "id": "38f148a1",
   "metadata": {},
   "outputs": [],
   "source": [
    "def get_expectation(theta,theta2, basis):\n",
    "\n",
    "    if basis == 'II':\n",
    "        return 1\n",
    "    else:\n",
    "        circuit = two_qubit_vqe(theta,theta2, basis)\n",
    "\n",
    "    simulator=AerSimulator()\n",
    "    job = simulator.run(circuit, shots=1_000)\n",
    "    result = job.result()\n",
    "    counts = result.get_counts()\n",
    "    expected_value = 0\n",
    "    for event in counts:\n",
    "        pm = 1\n",
    "        if event == '01':\n",
    "            pm = -1\n",
    "        if event == '10':\n",
    "            pm = -1\n",
    "        expected_value += pm * counts[event] / 1_000\n",
    "\n",
    "    return expected_value"
   ]
  },
  {
   "cell_type": "code",
   "execution_count": 32,
   "id": "98fe01e7",
   "metadata": {},
   "outputs": [],
   "source": [
    "def vqe_ground(theta,theta2):\n",
    "    sum_=0\n",
    "    tags=['II','ZZ','XX','YY','IZ','ZI','XY','IX','IY','XI','XZ','YZ','YI','YX','ZX','ZY']\n",
    "    for i in tags:\n",
    "        sum_+=coeff[i]*get_expectation(theta,theta2, i)\n",
    "    return sum_"
   ]
  },
  {
   "cell_type": "code",
   "execution_count": 33,
   "id": "301347c8",
   "metadata": {},
   "outputs": [],
   "source": [
    "theta=np.arange(-2*np.pi,2*np.pi,np.pi/10)\n",
    "theta2=np.arange(-2*np.pi,2*np.pi,np.pi/10)\n",
    "xv, yv = np.meshgrid(theta, theta2)\n",
    "E_0=np.zeros(xv.shape)\n",
    "for l,i in enumerate(theta):\n",
    "    for k,j in enumerate(theta2):\n",
    "        E_0[l,k] = vqe_ground(i,j)"
   ]
  },
  {
   "cell_type": "code",
   "execution_count": 34,
   "id": "687ea213",
   "metadata": {},
   "outputs": [
    {
     "data": {
      "image/png": "[encoded data removed]",
      "text/plain": [
       "<Figure size 640x480 with 1 Axes>"
      ]
     },
     "metadata": {},
     "output_type": "display_data"
    }
   ],
   "source": [
    "fig = plt.figure()\n",
    "ax = plt.axes(projection='3d')\n",
    "ax.contour3D(xv, yv, E_0, 50, cmap='binary')\n",
    "ax.set_xlabel('x')\n",
    "ax.set_ylabel('y')\n",
    "ax.set_zlabel('z');"
   ]
  },
  {
   "cell_type": "code",
   "execution_count": 35,
   "id": "ef5ee91b",
   "metadata": {},
   "outputs": [
    {
     "data": {
      "text/plain": [
       "<matplotlib.colorbar.Colorbar at 0x22bd88960d0>"
      ]
     },
     "execution_count": 35,
     "metadata": {},
     "output_type": "execute_result"
    },
    {
     "data": {
      "image/png": "[encoded data removed]",
      "text/plain": [
       "<Figure size 640x480 with 2 Axes>"
      ]
     },
     "metadata": {},
     "output_type": "display_data"
    }
   ],
   "source": [
    "plt.contourf(xv,yv,E_0)\n",
    "plt.colorbar()"
   ]
  },
  {
   "cell_type": "code",
   "execution_count": 36,
   "id": "f984dfcf",
   "metadata": {},
   "outputs": [
    {
     "data": {
      "text/plain": [
       "0.3080199999999995"
      ]
     },
     "execution_count": 36,
     "metadata": {},
     "output_type": "execute_result"
    }
   ],
   "source": [
    "np.min(E_0)"
   ]
  },
  {
   "cell_type": "code",
   "execution_count": 37,
   "id": "255fcb47",
   "metadata": {},
   "outputs": [
    {
     "data": {
      "text/plain": [
       "array([ 4.2795825-4.2245957e-17j, -2.1789079+3.3017530e-17j,\n",
       "        1.0915061+5.2034776e-17j, -1.112181 -4.2806349e-17j],\n",
       "      dtype=complex64)"
      ]
     },
     "execution_count": 37,
     "metadata": {},
     "output_type": "execute_result"
    }
   ],
   "source": [
    "np.linalg.eigvals(np.array(Matriz.tolist(),dtype=np.complex64))"
   ]
  },
  {
   "cell_type": "code",
   "execution_count": 38,
   "id": "0234ede6",
   "metadata": {},
   "outputs": [],
   "source": [
    "def test_ansatz():\n",
    "    # Create a quantum circuit\n",
    "    circuit = QuantumCircuit(2)\n",
    "    \n",
    "    # Test if ansatz generates the correct number of gates\n",
    "    theta = np.pi / 4\n",
    "    theta2 = np.pi / 2\n",
    "    modified_circuit = ansatz(circuit, theta, theta2)\n",
    "    \n",
    "    # Check if the number of operations matches the expected number (ansatz structure)\n",
    "    assert len(modified_circuit.data) == 9, \"Incorrect number of gates in ansatz\""
   ]
  },
  {
   "cell_type": "code",
   "execution_count": 39,
   "id": "c794e467",
   "metadata": {},
   "outputs": [],
   "source": [
    "def test_two_qubit_vqe_zz():\n",
    "    # Test the VQE circuit for ZZ basis\n",
    "    theta = np.pi / 4\n",
    "    theta2 = np.pi / 2\n",
    "    circuit = two_qubit_vqe(theta, theta2, 'ZZ')\n",
    "    \n",
    "    # Check if circuit is built correctly (for ZZ, no Hadamard gates)\n",
    "    operations = [gate[0].name for gate in circuit.data]\n",
    "    assert 'h' not in operations, \"Hadamard gate should not be present for ZZ measurement\""
   ]
  },
  {
   "cell_type": "code",
   "execution_count": 40,
   "id": "a73a3b6b",
   "metadata": {},
   "outputs": [],
   "source": [
    "def test_two_qubit_vqe_xx():\n",
    "    # Test the VQE circuit for XX basis\n",
    "    theta = np.pi / 4\n",
    "    theta2 = np.pi / 2\n",
    "    circuit = two_qubit_vqe(theta, theta2, 'XX')\n",
    "    \n",
    "    # Check if Hadamard gates are applied to both qubits for XX basis\n",
    "    operations = [gate[0].name for gate in circuit.data]\n",
    "    assert operations.count('h') == 2, \"Incorrect number of Hadamard gates for XX measurement\""
   ]
  }
 ],
 "metadata": {
  "kernelspec": {
   "display_name": "Python 3 (ipykernel)",
   "language": "python",
   "name": "python3"
  },
  "language_info": {
   "codemirror_mode": {
    "name": "ipython",
    "version": 3
   },
   "file_extension": ".py",
   "mimetype": "text/x-python",
   "name": "python",
   "nbconvert_exporter": "python",
   "pygments_lexer": "ipython3",
   "version": "3.11.5"
  }
 },
 "nbformat": 4,
 "nbformat_minor": 5
}
